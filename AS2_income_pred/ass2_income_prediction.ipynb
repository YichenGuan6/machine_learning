{
 "cells": [
  {
   "cell_type": "markdown",
   "metadata": {},
   "source": [
    "# Assignment 2: Income Prediction based on U.S. Census data"
   ]
  },
  {
   "cell_type": "markdown",
   "metadata": {},
   "source": [
    "Student Name:Yichen Guan\n",
    "\n",
    "Student ID:*******"
   ]
  },
  {
   "cell_type": "markdown",
   "metadata": {},
   "source": [
    "# General Info\n",
    "\n",
    "<b>Due date</b>: Friday, 16 Apr 2021 5pm\n",
    "\n",
    "<b>Submission method</b>: Canvas submission\n",
    "\n",
    "<b>Submission materials</b>: completed copy of this iPython notebook\n",
    "\n",
    "<b>Late submissions</b>: -10% per day (both week and weekend days counted)\n",
    "\n",
    "<b>Marks</b>: 15% of mark for class \n",
    "\n",
    "<b>Materials</b>: See [Using Jupyter Notebook and Python page](https://canvas.lms.unimelb.edu.au/courses/105477/pages/python-and-jupyter-notebooks?module_item_id=2613813) on Canvas (under Modules>Resources) for information on the basic setup required for this class, including an iPython notebook viewer and some handy python packages including Numpy, Scipy, Matplotlib, Scikit-Learn, and Gensim. You can use any Python built-in packages, but do not use any other 3rd party packages (the packages listed above are all fine to use); if your iPython notebook doesn't run on the marker's machine, you will lose marks. <b> You should use Python 3</b>.  \n",
    "\n",
    "<b>Evaluation</b>: Your iPython notebook should run end-to-end without any errors in a reasonable amount of time, and you must follow all instructions provided below, including specific implementation requirements and instructions for what needs to be printed (please avoid printing output we don't ask for). You should edit the sections below where requested, but leave the rest of the code as is. You should leave the output from running your code in the iPython notebook you submit, to assist with marking. The amount each section is worth is given in parenthesis after the instructions. \n",
    "\n",
    "You should be careful to use Python built-in functions and operators when appropriate and pick descriptive variable names that adhere to <a href=\"https://www.python.org/dev/peps/pep-0008/\">Python style requirements</a>. If you think it might be unclear what you are doing, you should comment your code to help the marker make sense of it. While the main focus is on correctness of your methods, you will lose marks if your code is not understandable.\n",
    "\n",
    "<b>Updates</b>: Any major changes to the assignment will be announced via Canvas. Minor changes and clarifications will be announced on the discussion board; we recommend you check it regularly.\n",
    "\n",
    "<b>Academic misconduct</b>: For most people, collaboration will form a natural part of the undertaking of this homework, and we encourge you to discuss it in general terms with other students. However, this ultimately is still an individual task, and so reuse of code or other instances of clear influence will be considered cheating. We will be checking submissions for originality and will invoke the University’s <a href=\"http://academichonesty.unimelb.edu.au/policy.html\">Academic Misconduct policy</a> where inappropriate levels of collusion or plagiarism are deemed to have taken place.\n"
   ]
  },
  {
   "cell_type": "markdown",
   "metadata": {},
   "source": [
    "## Overview\n",
    "\n",
    "In this assignment, you will be working with the famous *Adult* a data set containing demographic and income data from the united states in 1994. The dataset provided for this assignment is derived from <a href=\"http://archive.ics.uci.edu/ml/datasets/Adult\">this</a> resource. The data set consists of about 48,000 individuals each characterized through a set of 14 attributes. Your task is to predict whether the individual earns up to \\\\$ 50,000 a year (<=50K) or more than \\\\$50,000 per year (>50K).\n",
    "\n",
    "The attributes are\n",
    "\n",
    "|ID|Feature Name| Feature Type | Feature Values|\n",
    "| :-| :-| :-| :-|\n",
    "|0|age| continuous| |\n",
    "|1|workclass| categorical | Private, Self-emp-not-inc, Self-emp-inc, Federal-gov, Local-gov, State-gov, ?|\n",
    "|2|fnlwgt| continuous| |\n",
    "|3|education|  categorical |Bachelors, Some-college, 11th, HS-grad, Prof-school, Assoc-acdm, Assoc-voc, 9th, 7th-8th, 12th, Masters, 1st-4th, 10th, Doctorate, 5th-6th, Preschool|\n",
    "|4|education-num| continuous| |\n",
    "|5|marital-status|  categorical |Married-civ-spouse, Divorced, Never-married, Separated, Widowed, Married-spouse-absent, Married-AF-spouse|\n",
    "|6|occupation|  categorical |Tech-support, Craft-repair, Other-service, Sales, Exec-managerial, Prof-specialty, Handlers-cleaners, Machine-op-inspct, Adm-clerical, Farming-fishing, Transport-moving, Priv-house-serv, Protective-serv, Armed-Forces, ?|\n",
    "|7|relationship|  categorical |Wife, Own-child, Husband, Not-in-family, Other-relative, Unmarried|\n",
    "|8|race|  categorical |White, Asian-Pac-Islander, Amer-Indian-Eskimo, Other, Black|\n",
    "|9|sex|  categorical |Female, Male|\n",
    "|10|capital-gain| continuous| |\n",
    "|11|capital-loss| continuous| |\n",
    "|12|hours-per-week| continuous| |\n",
    "|13|native-country|  categorical |United-States, Cambodia, England, Puerto-Rico, Canada, Germany, India, Japan, Greece, South, China, Cuba, Iran, Honduras, Philippines, Italy, Poland, Jamaica, Vietnam, Mexico, Portugal, Ireland, France, Dominican-Republic, Laos, Ecuador, Taiwan, Haiti, Columbia, Hungary, Guatemala, Nicaragua, Scotland, Thailand, Yugoslavia, El-Salvador, Trinadad&Tobago, Peru, Hong, ?|\n",
    "\n",
    "You can find out more about the individual attributes / values, and the origin of the data set in the <a href=\"https://archive.ics.uci.edu/ml/machine-learning-databases/adult/adult.names\"> data set description</a>  \n",
    "\n",
    "\n",
    "You will build a number of classifiers to predict the income class based on the attributes above.\n",
    "\n",
    "\n",
    "#### The following instructions hold for every question in the assignment\n",
    "- leave the order of instances intact, i.e., do not shuffle the data\n",
    "- do not change the names or types of variables provided by us in the code cells below\n",
    "- '?' denotes an unknown value, and you should treat it as just another value for its feature in all tasks below."
   ]
  },
  {
   "cell_type": "markdown",
   "metadata": {},
   "source": [
    "## Question 1: Loading and pre-processing the data (1 mark)\n",
    "\n",
    "You were provide two data files:\n",
    "\n",
    "**adult.train** contains about 32,000 training instances, one instance per line in comma-separated value (csv) format. Each line contains 14 fields. The first 13 fields correspond to the features listed above, the final field denotes the class label\n",
    "\n",
    "**adult.test** is formatted exactly like adult.train, and contains about 16,000 further instances for evaluation.\n"
   ]
  },
  {
   "cell_type": "markdown",
   "metadata": {},
   "source": [
    "### 1a Read the data [0.5 marks]\n",
    "\n",
    "First, you will read in the data and create traing features, training labels, test features and test labels. Do not apply any data transformations."
   ]
  },
  {
   "cell_type": "code",
   "execution_count": 82,
   "metadata": {},
   "outputs": [
    {
     "name": "stdout",
     "output_type": "stream",
     "text": [
      "['39', ' State-gov', ' 77516', ' Bachelors', ' 13', ' Never-married', ' Adm-clerical', ' Not-in-family', ' White', ' Male', ' 2174', ' 0', ' 40', ' United-States']\n",
      " State-gov\n",
      "<class 'list'>\n",
      " <=50K\n",
      "True\n"
     ]
    }
   ],
   "source": [
    "# load data\n",
    "\n",
    "\n",
    "data = open(\"adult.train\",'r').readlines()\n",
    "test_data = open(\"adult.test\",'r').readlines()\n",
    "\n",
    "x_train = []\n",
    "y_train = []\n",
    "x_test = []\n",
    "y_test = []\n",
    "\n",
    "############################\n",
    "## your code begins here\n",
    "############################\n",
    "for instance in data:\n",
    "    a = instance.strip().split(\",\")\n",
    "    x_train.append(a[:-1])\n",
    "    y_train.append(a[-1])\n",
    "    \n",
    "\n",
    "for test_instance in test_data:\n",
    "    b = test_instance.strip().split(\",\")\n",
    "    x_test.append(b[:-1])\n",
    "    y_test.append(b[-1])\n",
    "    \n",
    "    \n",
    "############################\n",
    "## your code ends here\n",
    "############################\n",
    "\n",
    "len(x_train), len(y_train), len(x_test), len(y_test), len(x_train[0]), len(x_test[0])\n",
    "newa =  x_train[0]\n",
    "print( x_train[0])\n",
    "print(newa[1])\n",
    "print(type(x_train))\n",
    "\n",
    "test_class=\" >50K\"\n",
    "\n",
    "print(y_train[0])\n",
    "print(y_train[9]==test_class)\n",
    "\n",
    "\n"
   ]
  },
  {
   "cell_type": "markdown",
   "metadata": {},
   "source": [
    "<b>For your testing:</b>"
   ]
  },
  {
   "cell_type": "code",
   "execution_count": 83,
   "metadata": {},
   "outputs": [],
   "source": [
    "assert len(x_train)==len(y_train)==32525\n",
    "assert len(x_train[0])==len(x_test[0])==14"
   ]
  },
  {
   "cell_type": "markdown",
   "metadata": {},
   "source": [
    "### 1b: Attribute Types [0.5 marks]\n",
    "\n",
    "You will create three feature representations, based on the different attribute types (categorical, numeric) in the original *Adult* data.\n",
    "\n",
    "**Your tasks**\n",
    "\n",
    "Denote with $I$ the number of training instances; $N$ the number of numeric features in the data set; and $v_f$ the number of possible values for feature $f$.\n",
    "\n",
    "1. Create a train data set with only numeric features `x_train_num` (size $(I\\times N)$); and equivaluently a test data set `x_test_num`\n",
    "2. Create a train data set with only categorical features *in a 1-hot representation* `x_train_1hot` (size $(I\\times\\sum_f v_f)$); and equivalently a test data set `x_test_1hot`\n",
    "3. Create a train data set with both numeric and 1-hot categorical features `x_train_full` (size $I \\times N+\\sum_f v_f$) where the first $N$ columns represent the numerical features and the remaining columns the categorical features; and equivalently a test data set `x_test_full`\n",
    "\n",
    "**Note:** You may use classes and functions from ```scikit-learn```.\n",
    "\n"
   ]
  },
  {
   "cell_type": "code",
   "execution_count": 84,
   "metadata": {},
   "outputs": [
    {
     "name": "stdout",
     "output_type": "stream",
     "text": [
      "test\n",
      "[   39 77516    13  2174     0    40     0     0     0     0     0     0\n",
      "     1     0     0     0     0     0     0     0     0     0     1     0\n",
      "     0     0     0     0     0     0     0     0     0     1     0     0\n",
      "     0     1     0     0     0     0     0     0     0     0     0     0\n",
      "     0     0     0     0     1     0     0     0     0     0     0     0\n",
      "     0     1     0     1     0     0     0     0     0     0     0     0\n",
      "     0     0     0     0     0     0     0     0     0     0     0     0\n",
      "     0     0     0     0     0     0     0     0     0     0     0     0\n",
      "     0     0     0     0     0     1     0     0]\n",
      "[[    39  77516     13 ...      1      0      0]\n",
      " [    50  83311     13 ...      1      0      0]\n",
      " [    38 215646      9 ...      1      0      0]\n",
      " ...\n",
      " [    58 151910      9 ...      1      0      0]\n",
      " [    22 201490      9 ...      1      0      0]\n",
      " [    52 287927      9 ...      1      0      0]]\n"
     ]
    }
   ],
   "source": [
    "x_train_num = []\n",
    "x_test_num = []\n",
    "\n",
    "x_train_1hot = []\n",
    "x_test_1hot = []\n",
    "\n",
    "x_train_full = []\n",
    "x_test_full = []\n",
    "\n",
    "################################\n",
    "### Your code begins here ######\n",
    "################################\n",
    "\n",
    "from sklearn.preprocessing import OneHotEncoder   \n",
    "import numpy as np\n",
    "####extract features for traning dataset, x_cat_tran1 save untransformate categorical features\n",
    "x_tran = []\n",
    "x_cat_tran = []\n",
    "x_cat_tran1 = []\n",
    "\n",
    "x_tes =[]\n",
    "x_cat_test = []\n",
    "x_cat_test1 = []\n",
    "\n",
    "for test in x_train:\n",
    "    for i in range(len(test)):\n",
    "        if(i==0 or i==2 or i==4 or i==10 or i==11 or i==12 ):\n",
    "            x_tran.append(test[i])\n",
    "        if(i==1 or i==3 or i ==5 or i==6 or i==7 or i==8 or i==9 or i==13):\n",
    "            x_cat_tran.append(test[i])\n",
    "    \n",
    "    x_cat_tran1.append(x_cat_tran[0:8])       \n",
    "    x_train_num.append(x_tran[0:6])\n",
    "    x_tran.clear()\n",
    "    x_cat_tran.clear()\n",
    "    \n",
    "    \n",
    "###extract features for test dataset\n",
    "for instence in x_test:\n",
    "    for a in range(len(instence)):\n",
    "        if(a==0 or a==2 or a==4 or a==10 or a==11 or a==12 ):\n",
    "            x_tes.append(instence[a])\n",
    "        if(a==1 or a==3 or a==5 or a==6 or a==7 or a==8 or a==9 or a==13):\n",
    "            x_cat_test.append(instence[a])\n",
    "    \n",
    "    x_cat_test1.append(x_cat_test[0:8])    \n",
    "    x_test_num.append(x_tes[0:6])\n",
    "    x_tes.clear()\n",
    "    x_cat_test.clear()\n",
    "\n",
    "    \n",
    "############one-hot\n",
    "enc = OneHotEncoder(handle_unknown='ignore')\n",
    "enc.fit(x_cat_tran1)\n",
    "enc.categories_\n",
    "\n",
    "\n",
    "x_train_1hot=enc.transform(x_cat_tran1).toarray()\n",
    "x_test_1hot=enc.transform(x_cat_test1).toarray()\n",
    "\n",
    "x_train_1hot = np.array(x_train_1hot,dtype='i4')\n",
    "x_test_1hot = np.array(x_test_1hot,dtype='i4')\n",
    "#print(\"--------\")\n",
    "\n",
    "#tt=enc.get_feature_names()\n",
    "\n",
    "\n",
    "#print(tt[0])\n",
    "\n",
    "####combine\n",
    "\n",
    "x_train_num = np.array(x_train_num,dtype='i4')\n",
    "x_test_num = np.array(x_test_num,dtype='i4')\n",
    "\n",
    "x_train_full = np.hstack((x_train_num ,x_train_1hot))\n",
    "x_test_full = np.hstack((x_test_num,x_test_1hot))\n",
    "\n",
    "\n",
    "\n",
    "print(\"test\")\n",
    "#kkk=x_train_num[0]\n",
    "#print(type(kkk[0]))\n",
    "#print(kkk[0])\n",
    "\n",
    "print(x_train_full[0])\n",
    "\n",
    "print(x_train_full)\n",
    "#print(type(x_train_num[0]))\n",
    "\n",
    "################################\n",
    "### Your code ends here ########\n",
    "################################\n",
    "\n"
   ]
  },
  {
   "cell_type": "markdown",
   "metadata": {},
   "source": [
    "<b> For your testing</b>"
   ]
  },
  {
   "cell_type": "code",
   "execution_count": 85,
   "metadata": {},
   "outputs": [],
   "source": [
    "assert len(x_train_1hot[0])==98\n",
    "assert len(x_train_full[0])==104"
   ]
  },
  {
   "cell_type": "markdown",
   "metadata": {},
   "source": [
    "## Question 2: A 0-R baseline [0.5 marks]\n",
    "\n",
    "Implement a zero-r baseline, as introduced in the Evaluation lecture."
   ]
  },
  {
   "cell_type": "code",
   "execution_count": 86,
   "metadata": {},
   "outputs": [
    {
     "name": "stdout",
     "output_type": "stream",
     "text": [
      "The marority class is:  <=50K\n"
     ]
    }
   ],
   "source": [
    "from collections import Counter\n",
    "\n",
    "majority_class = \"\"\n",
    "zero_r_predictions = []\n",
    "\n",
    "############################\n",
    "## your code begins here\n",
    "############################\n",
    "train_array = np.array(y_train)\n",
    "zero_r = Counter(train_array)\n",
    "a = zero_r.most_common(1)\n",
    "hh=a[0]\n",
    "majority_class = hh[0]\n",
    "\n",
    "for i in range(len(y_test)):\n",
    "    zero_r_predictions.append(\" <=50K\")\n",
    "\n",
    "        \n",
    "\n",
    "\n",
    "############################\n",
    "## your code ends here\n",
    "############################\n",
    "\n",
    "print(f\"The marority class is: {majority_class}\")\n"
   ]
  },
  {
   "cell_type": "markdown",
   "metadata": {},
   "source": [
    "## Question 3: Feature selection [2 marks]\n",
    "\n",
    "In this question you will implement pointwise mutual information (PMI) for feature selection (Question 3a)\n",
    "\n",
    "In question 3a. you will use the implemented function to create a 1-R classifier based on the single 1-hot attribute  (i.e., categorical feature value) with highest PMI for class \">50K\". \n",
    "```\n",
    "argmax_a pmi(a=1,c=\">50K\")\n",
    "```\n",
    "In question 3b. you will apply your 1-R classifier to the test instances, and store your predicted labels in `one_r_predictions`.\n",
    "\n",
    "<b> You should implement PMI from scratch yourself. You may use native Python libraries like math or numpy to help you, but you may not use existing implementations of PMI.</b>\n",
    "\n"
   ]
  },
  {
   "cell_type": "markdown",
   "metadata": {},
   "source": [
    "### 3a. Implement PMI [1 mark]\n",
    "\n",
    "Implement a function to compute PMI.\n"
   ]
  },
  {
   "cell_type": "code",
   "execution_count": 94,
   "metadata": {},
   "outputs": [],
   "source": [
    "'''\n",
    "PMI: A function to compute the pointwise mutual information between \n",
    "all features in the data set and a target class of interest\n",
    "Input: - features for N input instances\n",
    "       - labels for N input instances\n",
    "       - target feature value (default=1)\n",
    "       - target class (fdefault='>50K')\n",
    "Output: a dictionary of the form {feature: ppmi} where each \n",
    "        feature is denoted by its ID (position in the 1-hot encoded representatoin)\n",
    "\n",
    "'''\n",
    "\n",
    "############################\n",
    "## your code begins here\n",
    "############################\n",
    "\n",
    "def pmi(features, labels, tgt_value=1, tgt_class=\">50K\"):\n",
    "    \n",
    "    pmis = {}\n",
    "    \n",
    "    features = np.array(features)\n",
    "    labels = np.array(labels)\n",
    "    \n",
    "    features_col = np.size(features,1)\n",
    "    features_row = np.size(features,0)\n",
    "####p(label)\n",
    "    label_counter = Counter(labels)\n",
    "    label_tgt = label_counter[tgt_class]\n",
    "    \n",
    "    p_label = float(label_tgt / features_row)\n",
    "\n",
    "    for i in range(0,features_col,1):\n",
    "        k = features[:,i]\n",
    "        pa_k = k\n",
    "        counter_same = 0\n",
    "        for j in range(0,features_row,1):\n",
    "            t_f = pa_k[j]\n",
    "            if(t_f == tgt_value and labels[j]==tgt_class):\n",
    "            #if(pa_k[j] == label[j] and pa_k[j]==tgt_class and label[j]==tgt_class):\n",
    "                counter_same = counter_same+1\n",
    "        \n",
    "        feature_counter = Counter(k)    \n",
    "        \n",
    "        feature_tgt = feature_counter[tgt_value]\n",
    "        \n",
    "#         print(\"feature\",feature_counter)\n",
    "        \n",
    "#         print(\"feature_tgt\",feature_tgt)\n",
    "        \n",
    "        p_feature = float(feature_tgt/features_row)\n",
    "        \n",
    "#         print(\"feat prob\",p_feature)\n",
    "        \n",
    "        ####calculate\n",
    "#         print(\"counter:\",counter_same)\n",
    "        p_f_l = float(counter_same/features_row)\n",
    "    \n",
    "        p_fml = float(p_feature*p_label)\n",
    "        if p_f_l == 0:\n",
    "            pmi_value = float('-inf')\n",
    "            \n",
    "        else:\n",
    "            pmi_value = np.log2(p_f_l/p_fml)\n",
    "            pmis[i] = pmi_value \n",
    "            \n",
    "            \n",
    "        \n",
    "#         print(\"p_f_l\",p_f_l)\n",
    "#         print(\"p_fml\",p_fml)\n",
    "  \n",
    "#         pmi_value = np.log2(p_f_l/p_fml)\n",
    "# #         print(\"pmi :\",i,\"=\",pmi_value)\n",
    "#         pmis[i] = pmi_value   \n",
    "             \n",
    "    return pmis\n",
    "\n",
    "\n",
    "############################\n",
    "## your code ends here\n",
    "############################\n"
   ]
  },
  {
   "cell_type": "markdown",
   "metadata": {},
   "source": [
    "<b>For your testing:</b>"
   ]
  },
  {
   "cell_type": "code",
   "execution_count": 95,
   "metadata": {
    "scrolled": true
   },
   "outputs": [],
   "source": [
    "test_features = [[1,1], [1,0], [0,1], [0,0]]\n",
    "test_labels = [1,1,0,0]\n",
    "test_pmi = pmi(test_features, test_labels, tgt_class=1)\n",
    "\n",
    "# test_n_features = x_train_1hot\n",
    "# test_n_labels = y_train\n",
    "# test_pmi1 = pmi(test_n_features, test_n_labels, tgt_class=\" >50K\")\n",
    "\n",
    "# where the index 0 refers to \"feature 1\" and index 1 refers to \"feature 2\"\n",
    "assert test_pmi[0]==1.0\n",
    "assert test_pmi[1]==0.0\n",
    "\n"
   ]
  },
  {
   "cell_type": "markdown",
   "metadata": {},
   "source": [
    "### 3b Create 1-R baseline [1 mark]\n",
    "\n",
    "- Apply your PMI function to the *1_hot feature representation* of training data, and determine the (i) 1-hot feature with *highest* PMI with class '>50K' () and (ii) 1-hot feature with *lowest* (most negative) PMI with class '>50K'. Store the name (string) of the corresponding highest/lowest PMI features in `highest_pmi_feature_name` and `lowest_pmi_feature_name`, respectively.\n",
    "\n",
    "- The feature with *highest* PMI will consitute your 1-R predictor, which you should use to predict the class labels for the test set (`one_r_predictions`)"
   ]
  },
  {
   "cell_type": "code",
   "execution_count": 97,
   "metadata": {},
   "outputs": [
    {
     "name": "stdout",
     "output_type": "stream",
     "text": [
      "[' <=50K', ' <=50K', ' <=50K', ' <=50K', ' <=50K', ' <=50K', ' <=50K', ' <=50K', ' <=50K', ' <=50K']\n",
      "The feature with highest PMI for the class '>50K' is: x1_ Doctorate\n",
      "The feature with lowest PMI for the class '>50K' is: x3_ Priv-house-serv\n"
     ]
    }
   ],
   "source": [
    "one_r_predictions = []\n",
    "\n",
    "highest_pmi_feature_name = \"\" # feature with highest PMI\n",
    "lowest_pmi_feature_name = \"\" # feature with lowest PMI\n",
    "\n",
    "############################\n",
    "## your code begins here\n",
    "############################\n",
    "\n",
    "pmi_dic = pmi(x_train_1hot, y_train, tgt_class=\" >50K\")\n",
    "max_key = max(pmi_dic, key=pmi_dic.get)\n",
    "min_key = min(pmi_dic, key=pmi_dic.get)\n",
    "#print(max_key)\n",
    "#print(min_key)\n",
    "\n",
    "tt=enc.get_feature_names()\n",
    "highest_pmi_feature_name = tt[max_key]\n",
    "lowest_pmi_feature_name = tt[min_key]\n",
    "\n",
    "\n",
    "for one_r in x_test_1hot:\n",
    "    if one_r[max_key] == 1:\n",
    "        one_r_predictions.append(\" >50K\")\n",
    "    if one_r[max_key] == 0:\n",
    "        one_r_predictions.append(\" <=50K\")\n",
    "        \n",
    "#print(len(one_r_predictions))\n",
    "        \n",
    "# print(tt[max_key])\n",
    "# print(tt[min_key])\n",
    "############################\n",
    "## your code ends here\n",
    "############################\n",
    "print(one_r_predictions[:10])\n",
    "print(f\"The feature with highest PMI for the class '>50K' is: {highest_pmi_feature_name}\")\n",
    "print(f\"The feature with lowest PMI for the class '>50K' is: {lowest_pmi_feature_name}\")"
   ]
  },
  {
   "cell_type": "markdown",
   "metadata": {},
   "source": [
    "## Question 4: Naive Bayes [3 marks]\n",
    "\n",
    "We will construct three Naive Bayes classifiers\n",
    "\n",
    "1. One for instances with only 1-hot encoded (binary) categorical attributes.\n",
    "2. One for instances with only numerical attributes.\n",
    "3. One for instances with the full set of numerical *and* categorical attributes, ensuring that your classifier computes posterior class probabilities $p(y|x)$ as $p(x|y)p(y)$.\n",
    "\n",
    "For each classifier, you will \n",
    "1. Train it on the training set\n",
    "2. Use the models to predict labels for the test set\n"
   ]
  },
  {
   "cell_type": "markdown",
   "metadata": {},
   "source": [
    "### 4a Implementing the Naive Bayes classifiers [1.5 marks]\n",
    "\n",
    "Implement three functions which train a NB classifier given the specified input feature types and predict labels for a given test set.\n",
    "\n",
    "You may add additional quantities to your `return` statements.\n",
    "\n",
    "<b> You may (and are, indeed, encouraged) to, use the existing NB implementations from `sklearn`. You should use the default parameterizations of these algorithms.</b> \n",
    "    \n",
    "If you choose to implement your classifiers from scratch, please use Laplace smoothing (alpha=1) for the categorical feature NB.\n"
   ]
  },
  {
   "cell_type": "code",
   "execution_count": 98,
   "metadata": {},
   "outputs": [],
   "source": [
    "\n",
    "##################################\n",
    "## your code begins here\n",
    "##################################\n",
    "\n",
    "from sklearn.naive_bayes import BernoulliNB\n",
    "from sklearn.naive_bayes import GaussianNB\n",
    "from sklearn.naive_bayes import CategoricalNB\n",
    "from sklearn.preprocessing import KBinsDiscretizer\n",
    "\n",
    "def nb_binary_features(train_features, train_labels, test_features):\n",
    "    predictions = []\n",
    "    \n",
    "    BernNB = BernoulliNB(alpha=1.0)\n",
    "    BernNB.fit(train_features,train_labels)\n",
    "    predictions = BernNB.predict(test_features)\n",
    "    \n",
    "    return predictions\n",
    "\n",
    "\n",
    "def nb_continuous_features(train_features, train_labels, test_features):\n",
    "    predictions = []\n",
    "    \n",
    "    GausNB = GaussianNB()\n",
    "    GausNB.fit(train_features,train_labels)\n",
    "    \n",
    "    predictions = GausNB.predict(test_features)\n",
    "    \n",
    "    return predictions\n",
    "\n",
    "\n",
    "def nb_full(train_features, train_labels, test_features):  \n",
    "#     print(\"---star\")\n",
    "#     print(train_features)\n",
    "    predictions = []\n",
    "    \n",
    "    ###deep copy\n",
    "    data_or_train_fe = train_features.copy()\n",
    "    data_or_test_fe = test_features.copy()\n",
    "    \n",
    "    ###data discretization\n",
    "    kdb = KBinsDiscretizer(strategy=\"uniform\",n_bins=5,encode=\"ordinal\")\n",
    "    data_disc_train = kdb.fit_transform(data_or_train_fe[:,0:6])\n",
    "    data_disc_test = kdb.fit_transform(data_or_test_fe[:,0:6])\n",
    "    \n",
    "    data_or_train_fe[:,0:6] = data_disc_train\n",
    "    data_or_test_fe[:,0:6] = data_disc_test\n",
    "#     print(\"-------\")\n",
    "#     print(kdb.bin_edges_)\n",
    "#     print(data_disc_train)\n",
    " \n",
    "    #####model\n",
    "    CateNB = CategoricalNB(alpha=1.0)\n",
    "    CateNB.fit(data_or_train_fe,train_labels)\n",
    "    predictions = CateNB.predict(data_or_test_fe)\n",
    "    return predictions\n",
    "\n",
    "\n",
    "\n",
    "\n",
    "############################\n",
    "## your code ends here\n",
    "############################\n"
   ]
  },
  {
   "cell_type": "markdown",
   "metadata": {},
   "source": [
    "### 4b Apply your classifiers to the data sets you created in Questions 1 and 3b [0.5 marks]\n",
    "\n",
    "...namely, the\n",
    "\n",
    "1. 1-hot categorical features `x_{train,test}_1hot`\n",
    "2. numerical features `x_{train,test}_num`\n",
    "3. combined numerical and 1-hot categorical features `x_{train,test}_full`\n"
   ]
  },
  {
   "cell_type": "code",
   "execution_count": 99,
   "metadata": {},
   "outputs": [
    {
     "name": "stdout",
     "output_type": "stream",
     "text": [
      "Numerical NB predicted class distribution \t Counter({' <=50K': 14440, ' >50K': 1822})\n",
      "Categorical NB predicted class distribution\t Counter({' <=50K': 10046, ' >50K': 6216})\n",
      "Full NB predicted class distribution\t Counter({' <=50K': 10593, ' >50K': 5669})\n"
     ]
    }
   ],
   "source": [
    "from collections import Counter\n",
    "\n",
    "############################\n",
    "## your code begins here\n",
    "############################\n",
    "\n",
    "\n",
    "categorical_nb_predictions = nb_binary_features(x_train_1hot,y_train,x_test_1hot)\n",
    "\n",
    "numeric_nb_predictions = nb_continuous_features(x_train_num,y_train,x_test_num)\n",
    "# print(\"after1\")\n",
    "# print(x_train_full)\n",
    "full_nb_predictions = nb_full(x_train_full,y_train,x_test_full)\n",
    "# print(\"after\")\n",
    "# print(x_train_full)\n",
    "\n",
    "############################\n",
    "## your code ends here\n",
    "############################\n",
    "print(f\"Numerical NB predicted class distribution \\t {Counter(numeric_nb_predictions)}\")\n",
    "print(f\"Categorical NB predicted class distribution\\t {Counter(categorical_nb_predictions)}\")\n",
    "print(f\"Full NB predicted class distribution\\t {Counter(full_nb_predictions)}\")\n"
   ]
  },
  {
   "cell_type": "markdown",
   "metadata": {},
   "source": [
    "\n",
    "### 4c Explain your Naive Bayes classifier implementation on the full attribute set (numerical and binary features). [1 mark]\n",
    "\n",
    "Please limit your answer to 2-3 sentences\n"
   ]
  },
  {
   "cell_type": "markdown",
   "metadata": {},
   "source": [
    "Some of the numerical features have a strong correlation with binary features, such as education-num and education, high education level will take a long education time. So I discretization of numerical features and use Categorical Naive Bayes to implement classifiers. The reason why use Categorical Naive Bayes is after discretization, all features are categorical type."
   ]
  },
  {
   "cell_type": "markdown",
   "metadata": {},
   "source": [
    "## Question 5: Logistic Regression [2.5 marks]\n",
    "\n",
    "Apply a Logistic Regression classifier to the full training data set (`x_{train,test}_full`)\n",
    "\n",
    "<b> Use the existing implementation in sklearn with default parameters. </b>"
   ]
  },
  {
   "cell_type": "markdown",
   "metadata": {},
   "source": [
    "### 5a The Logistic Regression classifier [0.5 marks]"
   ]
  },
  {
   "cell_type": "code",
   "execution_count": 100,
   "metadata": {},
   "outputs": [
    {
     "name": "stdout",
     "output_type": "stream",
     "text": [
      "coefficient value of highest pmi -1.1964256579555634e-05\n",
      "coefficient value of lowest pmi -8.401180992124138e-06\n",
      "--------\n",
      "[4, 31]\n",
      "the high coefficient value is  0.000780962890351613\n",
      "the second high coefficient value is  0.0003772312253067222\n",
      "the high coefficient feature is  capital-loss\n",
      "the second high coefficient feature is  x2_ Married-civ-spouse\n",
      "LR predicted class distribution\t Counter({' <=50K': 14837, ' >50K': 1425})\n"
     ]
    }
   ],
   "source": [
    "from sklearn.linear_model import LogisticRegression\n",
    "import heapq\n",
    "lr_predictions = []\n",
    "\n",
    "############################\n",
    "## your code begins here\n",
    "############################\n",
    "\n",
    "max_value_list = []\n",
    "\n",
    "def LR_Class_features(train_features, train_labels, test_features):\n",
    "    predictions = []\n",
    "    \n",
    "    lr = LogisticRegression()\n",
    "    lr.fit(train_features,train_labels)\n",
    "    \n",
    "    predictions = lr.predict(test_features)\n",
    "    \n",
    "######get the first two max coefficient for 5b.a\n",
    "    check_ft_max = lr.coef_[0]\n",
    "    check_ft_max1 = check_ft_max.copy()\n",
    "    max_num_index_list=heapq.nlargest(2, range(len(check_ft_max1)), check_ft_max1.take)\n",
    "    first_index = max_num_index_list[0]\n",
    "    second_index = max_num_index_list[1]\n",
    "    f_v = check_ft_max[first_index]\n",
    "    s_v = check_ft_max[second_index]\n",
    "    \n",
    "    ####in the PMI ,feature 17 is highest value, feature 20 is lowest value\n",
    "    print(\"coefficient value of highest pmi\",check_ft_max[17])\n",
    "    print(\"coefficient value of lowest pmi\",check_ft_max[20])\n",
    "    \n",
    "    \n",
    "    \n",
    "    return predictions,max_num_index_list,f_v,s_v\n",
    "\n",
    "\n",
    "lr_predictions,max_value_list,f_coef,s_coef = LR_Class_features(x_train_full,y_train,x_test_full)\n",
    "\n",
    "max_key_coef = max_value_list[0]\n",
    "max_key1_coef = max_value_list[1]\n",
    "\n",
    "\n",
    "num_feature_name = ['age','fnlwgt','education-num','capital-gain','capital-loss','hours-per-week']\n",
    "num_feature_name.extend(tt)\n",
    "\n",
    "#print(num_feature_name)\n",
    "#print(tt)\n",
    "highest_coef_feature_name = num_feature_name[max_key_coef]\n",
    "secHigh_coef_feature_name = num_feature_name[max_key1_coef]\n",
    "\n",
    "print(\"--------\")\n",
    "print(max_value_list)\n",
    "print(\"the high coefficient value is \",f_coef )\n",
    "print(\"the second high coefficient value is \",s_coef )\n",
    "\n",
    "print(\"the high coefficient feature is \",highest_coef_feature_name )\n",
    "print(\"the second high coefficient feature is \",secHigh_coef_feature_name )\n",
    "\n",
    "############################\n",
    "## your code ends here\n",
    "############################\n",
    "\n",
    "print(f\"LR predicted class distribution\\t {Counter(lr_predictions)}\")"
   ]
  },
  {
   "cell_type": "markdown",
   "metadata": {},
   "source": [
    "### 5b Inspect the learnt coefficients [2 marks]\n",
    "\n",
    "**Part 1**\n",
    "Inspect the coefficients (weights) learnt by the classifier, and compare them to the PMI values in Question 1. You should update your code above in order to achieve this. Please indicate through comments which parts of the code are relevant to question 5b.\n",
    "\n",
    "**Part 2**\n",
    "What does a high coefficient for a feature imply? For which two features does your model learn the largest coefficients? Compare your answer to the highest PMI features you detected in Q3."
   ]
  },
  {
   "cell_type": "markdown",
   "metadata": {},
   "source": [
    "The high coefficient means that when a feature appears, the odds of the event occurring will increase. \n",
    "Features of capital-loss and Married-civ-spouse are have the largest coefficients from the logistic regression model."
   ]
  },
  {
   "cell_type": "markdown",
   "metadata": {},
   "source": [
    "## Question 6: Evaluation [1 mark]\n",
    "\n",
    "We will evaluate our baselines and classifiers on the instances in the test set. \n",
    "\n",
    "Compute \n",
    "- accuracy\n",
    "- macro-averaged F1 score \n",
    "\n",
    "for the two baselines, the three NB classifiers and the LR classifier.\n",
    "\n",
    "**You may use existing implementations and/or Python libraries like numpy, scipy or sklearn.**"
   ]
  },
  {
   "cell_type": "code",
   "execution_count": 101,
   "metadata": {},
   "outputs": [
    {
     "name": "stdout",
     "output_type": "stream",
     "text": [
      "Zero R\t\tAccuracy: 0.76\tMacro F1: 0.43\n",
      "One  R\t\tAccuracy: 0.77\tMacro F1: 0.46\n",
      "NB Num \t\tAccuracy: 0.8\tMacro F1: 0.64\n",
      "NB Cat \t\tAccuracy: 0.76\tMacro F1: 0.72\n",
      "NB Full \tAccuracy: 0.79\tMacro F1: 0.75\n",
      "LR \t\tAccuracy: 0.8\tMacro F1: 0.63\n"
     ]
    }
   ],
   "source": [
    "zero_r_acc = 0\n",
    "zero_r_f1 = 0\n",
    "\n",
    "one_r_acc = 0\n",
    "one_r_f1 = 0\n",
    "\n",
    "num_nb_acc = 0\n",
    "num_nb_f1 = 0\n",
    "\n",
    "cat_nb_acc = 0\n",
    "cat_nb_f1 = 0\n",
    "\n",
    "full_nb_acc = 0\n",
    "full_nb_f1 = 0\n",
    "\n",
    "lr_acc = 0\n",
    "lr_f1 = 0\n",
    "\n",
    "############################\n",
    "## your code begins here\n",
    "############################\n",
    "from sklearn.metrics import f1_score\n",
    "from sklearn.metrics import accuracy_score\n",
    "\n",
    "######zero r\n",
    "zero_r_acc = accuracy_score(y_test, zero_r_predictions)\n",
    "zero_r_f1 = f1_score(y_test, zero_r_predictions, average='macro')\n",
    "\n",
    "#### one r\n",
    "one_r_acc = accuracy_score(y_test, one_r_predictions)\n",
    "one_r_f1 = f1_score(y_test, one_r_predictions, average='macro')\n",
    "\n",
    "\n",
    "#### num BY\n",
    "num_nb_acc =accuracy_score(y_test, numeric_nb_predictions)\n",
    "num_nb_f1 = f1_score(y_test, numeric_nb_predictions, average='macro')\n",
    "\n",
    "\n",
    "#### categrate BY\n",
    "cat_nb_acc =accuracy_score(y_test, categorical_nb_predictions)\n",
    "cat_nb_f1 = f1_score(y_test, categorical_nb_predictions, average='macro')\n",
    "\n",
    "\n",
    "#### FULL BY\n",
    "full_nb_acc =accuracy_score(y_test, full_nb_predictions)\n",
    "full_nb_f1 = f1_score(y_test, full_nb_predictions, average='macro')\n",
    "\n",
    "##### LR\n",
    "lr_acc = accuracy_score(y_test, lr_predictions)\n",
    "lr_f1 = f1_score(y_test, lr_predictions, average='macro')\n",
    "\n",
    "\n",
    "############################\n",
    "## your code ends here\n",
    "############################\n",
    "\n",
    "print(f\"Zero R\\t\\tAccuracy: {round(zero_r_acc, 2)}\\tMacro F1: {round(zero_r_f1, 2)}\")\n",
    "print(f\"One  R\\t\\tAccuracy: {round(one_r_acc, 2)}\\tMacro F1: {round(one_r_f1, 2)}\")\n",
    "print(f\"NB Num \\t\\tAccuracy: {round(num_nb_acc, 2)}\\tMacro F1: {round(num_nb_f1, 2)}\")\n",
    "print(f\"NB Cat \\t\\tAccuracy: {round(cat_nb_acc, 2)}\\tMacro F1: {round(cat_nb_f1, 2)}\")\n",
    "print(f\"NB Full \\tAccuracy: {round(full_nb_acc, 2)}\\tMacro F1: {round(full_nb_f1, 2)}\")\n",
    "print(f\"LR \\t\\tAccuracy: {round(lr_acc, 2)}\\tMacro F1: {round(lr_f1, 2)}\")"
   ]
  },
  {
   "cell_type": "markdown",
   "metadata": {},
   "source": [
    "## Question 7: Discussion [5 marks]\n",
    "\n",
    "Critically analyze the performance of the models by answering the following questions. \n",
    "\n",
    "**(a)** The three Naive Bayes (NB) classifiers lead to different performance. Which of the three NB classifiers performs best, and why do you think it is the case? **[1 mark]**\n",
    "\n",
    "**(b)** There is a systematic difference between Accuracy and F1 score, across all models. Describe and explain the difference in the context of the data set. **[1 mark]**\n",
    "\n",
    "**(c)** Assume that your best classifier will be deployed in a bank to decide whether a customer will be granted a loan, or not. A loan will be granted if the classifier predicts an income of \">50K\", othewise it won't. The bank manager wants to avoid falsely granting a loan to an applicant with insufficient income by all means. Can you reassure the bank manager with the evaluation results in Q7 that your classifier is adequate? If not, describe an alternative evaluation metric and explain why it is more appropriate.\n",
    "\n",
    "**(d)** Do you observe a clear difference in performance between NB and Logistic Regression (LR) in Q7? Referring to the number of parameters and assumptions underlying each model, provide one reason why NB might outperform LR, and one reason why LR might outperform NB. In your answer, refer back to the *Adult* data set used in this assignment. **[1 mark]**\n",
    "\n",
    "**(e)** Assume that you have access to a (hypothetical) infinitely large U.S. census database (i.e., an enormous version of the *Adult* data set used in this assignment). Is it true that Logistic Regression, but not Naive Bayes, will achieve perfect test set performance? Why (not)? **[1 mark]**\n",
    "\n",
    "<b>We expect a maximum of 2-3 sentences per questinon."
   ]
  },
  {
   "cell_type": "code",
   "execution_count": 102,
   "metadata": {
    "scrolled": true
   },
   "outputs": [
    {
     "name": "stdout",
     "output_type": "stream",
     "text": [
      "Counter({' <=50K': 24684, ' >50K': 7841})\n",
      "Counter({' <=50K': 12419, ' >50K': 3843})\n"
     ]
    }
   ],
   "source": [
    "######test for answer question 7b\n",
    "print(Counter(y_train))\n",
    "print(Counter(y_test))\n",
    "\n",
    "\n",
    "# q=np.array(x_train)\n",
    "\n",
    "# print(Counter (q[:,1]))\n",
    "# print(Counter (q[:,6]))"
   ]
  },
  {
   "cell_type": "markdown",
   "metadata": {},
   "source": [
    "\n",
    "\n",
    "(a) NB FULL is the best classifier. Because the Macro F1 value is the biggest compare with the others which mean this model has a strong ability to distinguish both \">50k\" and  \" <50k\". Reduce the impact of uneven data distribution.\n",
    "\n",
    "\n",
    "(b)The uneven class distribution make the Accuracy is not good for evaluate the model. In the training data set, \"<50K\" has 24684 instances and  \">50K\" only has 7841. that is also a reason of why some model has higher accuracy but lower F1 score. \n",
    "\n",
    "\n",
    "(c)NO, because Macro F1 average the Precision and Recall. For this situation, the bank manager wants to avoid falsely granting a loan to people who have less than 50k income. So it is important to predict whether \"<50\" is accurate, the Precision of the model should have a higher weight to evaluate the classifier model.\n",
    "\n",
    "\n",
    "(d)\n",
    "NB outperform LR: the Naive Bayes can handle both continuous and discrete data but logistic regression can not handle continuous data.The data needs to be discretized and normalized in advance to reduce the gradient. If the continuous data is not discretized, the accuracy of the logistic regression model will be disturbed by outliers.\n",
    "\n",
    "LR outperform NB: base on the assumption of Naive Bayes, the feature should be independent of each other and all features should have the same weight. However observe the feature of the data set, some of them have relevance. For example, \"eduacation\" and \"education-num\", \"capital-gain\" and \"hours-per-week\". Non-independent features have little effect on logistic regression.\n",
    "\n",
    "\n",
    "\n",
    "(e)Yes, it is. because the assumption of Naive Bayes is independence among features,  when the dataset is infinitely large, the variance will be increased, make the naive Bayes perform less accurately."
   ]
  },
  {
   "cell_type": "markdown",
   "metadata": {},
   "source": [
    "## Final thoughts ...\n",
    "\n",
    "Do you think it is ethical and safe to build and deploy income-level classifiers based on the set of attributes provided with the data set? Could such a classifier do harm if not developed, tested and deployed carefully?\n",
    "\n",
    "When predicting the income of a person, should demographic attributes like 'gender' or 'race' even be considered? Due to historical events there are systematic income differences between men/women and people of different ethnicities. But no doubt these are *correlations* and not factors to be used to *predict* income in the future. \n",
    "\n",
    "But ML models are only as good as their input data: a naively developed ML algorithm will reflect, and often amplify, biases in the data.\n",
    "\n",
    "In the last 1-2 weeks of this subject we will discuss ethics in machine learning and look at questions such as\n",
    "- historical artifacts which lead to biased data sets, and hence potentially biased ML algorithms\n",
    "- how to determine whether an algorithm is indeed biased\n",
    "- how to mitigate bias in the data and in algorithms\n",
    "\n"
   ]
  }
 ],
 "metadata": {
  "kernelspec": {
   "display_name": "Python 3",
   "language": "python",
   "name": "python3"
  },
  "language_info": {
   "codemirror_mode": {
    "name": "ipython",
    "version": 3
   },
   "file_extension": ".py",
   "mimetype": "text/x-python",
   "name": "python",
   "nbconvert_exporter": "python",
   "pygments_lexer": "ipython3",
   "version": "3.8.5"
  }
 },
 "nbformat": 4,
 "nbformat_minor": 4
}
