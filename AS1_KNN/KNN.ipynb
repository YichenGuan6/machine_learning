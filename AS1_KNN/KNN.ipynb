{
 "cells": [
  {
   "cell_type": "markdown",
   "metadata": {
    "colab_type": "text",
    "id": "W_oI1y6-cY4d"
   },
   "source": [
    "# Assignment 1: K-Nearest Neighbors Classification (15 marks)"
   ]
  },
  {
   "cell_type": "markdown",
   "metadata": {
    "colab_type": "text",
    "collapsed": true,
    "id": "XIBjsAqjcY4e"
   },
   "source": [
    "Student Name: Yichen Guan\n",
    "\n",
    "Student ID: ******"
   ]
  },
  {
   "cell_type": "markdown",
   "metadata": {
    "colab_type": "text",
    "id": "1Huv7ALVcY4f"
   },
   "source": [
    "## General info"
   ]
  },
  {
   "cell_type": "markdown",
   "metadata": {
    "colab_type": "text",
    "id": "p07JVvoScY4g"
   },
   "source": [
    "<b>Due date</b>: Friday, 19 March 2021 5pm\n",
    "\n",
    "<b>Submission method</b>: Canvas submission\n",
    "\n",
    "<b>Submission materials</b>: completed copy of this iPython notebook\n",
    "\n",
    "<b>Late submissions</b>: -10% per day (both week and weekend days counted)\n",
    "\n",
    "<b>Marks</b>: 15% of mark for class. \n",
    "\n",
    "<b>Materials</b>: See [Using Jupyter Notebook and Python page](https://canvas.lms.unimelb.edu.au/courses/105477/pages/python-and-jupyter-notebooks?module_item_id=2613813) on Canvas (under Modules> Coding Resources) for information on the basic setup required for this class, including an iPython notebook viewer and the python packages NLTK, Numpy, Scipy, Matplotlib, Scikit-Learn, and Gensim. In particular, if you are not using a lab computer which already has it installed, we recommend installing all the data for NLTK, since you will need various parts of it to complete this assignment. Deep learning libraries such as keras and pytorch are also allowed.  You can also use any Python built-in packages, but do not use any other 3rd party packages (the packages listed above are all fine to use); if your iPython notebook doesn't run on the marker's machine, you will lose marks. <b> You should use Python 3</b>.  \n",
    "\n",
    "\n",
    "<b>Evaluation</b>: Your iPython notebook should run end-to-end without any errors in a reasonable amount of time, and you must follow all instructions provided below, including specific implementation requirements and instructions for what needs to be printed (please avoid printing output we don't ask for). You should edit the sections below where requested, but leave the rest of the code as is. You should leave the output from running your code in the iPython notebook you submit, to assist with marking. The amount each section is worth is given in parenthesis after the instructions. \n",
    "\n",
    "You will be marked not only on the correctness of your methods, but also the quality and efficency of your code: in particular, you should be careful to use Python built-in functions and operators when appropriate and pick descriptive variable names that adhere to <a href=\"https://www.python.org/dev/peps/pep-0008/\">Python style requirements</a>. If you think it might be unclear what you are doing, you should comment your code to help the marker make sense of it. We reserve the right to deduct up to 2 marks for unreadable or exessively inefficient code.\n",
    "\n",
    "<b>Updates</b>: Any major changes to the assignment will be announced via Canvas. Minor changes and clarifications will be announced on the discussion board (Piazza -> Assignment_1); we recommend you check it regularly.\n",
    "\n",
    "<b>Academic misconduct</b>: For most people, collaboration will form a natural part of the undertaking of this homework, and we encourge you to discuss it in general terms with other students. However, this ultimately is still an individual task, and so reuse of code or other instances of clear influence will be considered cheating. Please check the <a href=\"https://canvas.lms.unimelb.edu.au/courses/105477/modules\">CIS Academic Honesty training</a> for more information. We will be checking submissions for originality and will invoke the University’s <a href=\"http://academichonesty.unimelb.edu.au/policy.html\">Academic Misconduct policy</a> where inappropriate levels of collusion or plagiarism are deemed to have taken place."
   ]
  },
  {
   "cell_type": "markdown",
   "metadata": {
    "colab_type": "text",
    "id": "wseHhYGScY4g"
   },
   "source": [
    "## Overview"
   ]
  },
  {
   "cell_type": "markdown",
   "metadata": {
    "colab_type": "text",
    "id": "wH9UvbJTcY4h"
   },
   "source": [
    "In this assignment, you will implement the K-nearest neighbor (KNN) classification algorithm and apply it to a real-world machine learning data set. In particular we will classify zoo animals into seven animal categories. \n",
    "\n",
    "Firstly, you will read in the dataset into a train and a test set (Q1). Secondly, you will implement different distance functions (Q2). Thirdly, you will implement a KNN classifier (Q3). You will apply and evaluate your classifier on the data set exploring different parameters (Q4, Q5). Finally, you will critically discuss your results (Q6)."
   ]
  },
  {
   "cell_type": "markdown",
   "metadata": {},
   "source": [
    "### Question 1: Loading the data (2.0 marks)\n",
    "\n",
    "**Instructions:** For this assignment we will develop a K-Nearest Neighbors (KNN) classifier to classify animals in the zoo into pre-defined categories of animals, namely\n",
    "```\n",
    "1: mammal\n",
    "2: bird\n",
    "3: reptile\n",
    "4: fish\n",
    "5: amphibian\n",
    "6: insect\n",
    "7: invertebrate\n",
    "```\n",
    "\n",
    "We use a data set of zoo animals from the UCI Machine learning repository.\n",
    "\n",
    "The original data can be found here: https://archive.ics.uci.edu/ml/datasets/Zoo. \n",
    "\n",
    "The dataset consists of 101 instances. Each instance corresponds to an animal which has a unique identifier (the name of the animal; first field) and is characterized with 16 features:\n",
    "\n",
    "```\n",
    "   1. hair\t\t    Boolean\n",
    "   2. feathers\t\tBoolean\n",
    "   3. eggs\t\t    Boolean\n",
    "   4. milk\t\t    Boolean\n",
    "   5. airborne\t\tBoolean\n",
    "   6. aquatic\t\tBoolean\n",
    "   7. predator\t\tBoolean\n",
    "   8. toothed\t\tBoolean\n",
    "   9. backbone\t\tBoolean\n",
    "  10. breathes\t\tBoolean\n",
    "  11. venomous\t\tBoolean\n",
    "  12. fins\t\t    Boolean\n",
    "  13. legs\t\t    Numeric (set of values: {0,2,4,5,6,8})\n",
    "  14. tail\t\t    Boolean\n",
    "  15. domestic\t\tBoolean\n",
    "  16. catsize\t\tBoolean\n",
    "```\n",
    "\n",
    "You need to first obtain this dataset, which is on Canvas (assignment 1). The files we will be using are called *zoo.data* and *zoo.labels*. Make sure the files are saved in the same folder as this notebook.\n",
    "\n",
    "Both files are in comma-separated value format.\n",
    "\n",
    "*zoo.features* contains 101 instances, one line per instance. The first field is the unique instance identifier (name of animals). The following fields contain the 16 features, as described above.\n",
    "\n",
    "*zoo.labels* contains the gold labels (i.e., one of the seven classes above), for one instance per line. Again, the first field is the instance identifier, and the second field the instance label.\n",
    "\n",
    "**Task**: Read the two files  \n",
    "1. create a **training_feature** set (list of features for the first 90 instances in the zoo.* files) and a **training_label** set (list of labels for the corresponding). \n",
    "2. create a **test_feature** set (list of features of the remaining instances in the zoo.* files) and a **test_label** set (list of labels for the corresponding). \n",
    "\n",
    "**Check**: Use the assertion statements in *\"For your testing\"* to validate your code."
   ]
  },
  {
   "cell_type": "code",
   "execution_count": 33,
   "metadata": {},
   "outputs": [],
   "source": [
    "data = open(\"zoo.features\", 'r').readlines()\n",
    "gold = open(\"zoo.labels\", 'r').readlines()\n",
    "\n",
    "train_features = []\n",
    "train_labels   = []\n",
    "\n",
    "test_features = []\n",
    "test_labels   = []\n",
    "\n",
    "###########################\n",
    "## YOUR CODE BEGINS HERE\n",
    "###########################\n",
    "\n",
    "#### create training feature and test feature set \n",
    "counter_feature = 1\n",
    "for instance in data:\n",
    "    instance = instance.strip()\n",
    "    instance = instance.split(\",\")\n",
    "###change the data type for element\n",
    "    for i in range(1,17):\n",
    "        instance[i]=float(instance[i])\n",
    "        \n",
    "    instance_features = instance[1:17]\n",
    "#### use counter to separate data to training data and test data\n",
    "    if counter_feature < 91:\n",
    "        train_features.append(instance_features)  \n",
    "    else:\n",
    "        test_features.append(instance_features)\n",
    "    counter_feature= counter_feature+1\n",
    "        \n",
    "#### create training label and test label set         \n",
    "counter_label = 1\n",
    "for gold_label in gold:\n",
    "    gold_label = gold_label.strip()\n",
    "    gold_label = gold_label.split(\",\")\n",
    "###change the data type for element\n",
    "    instance_label = float(gold_label[1])\n",
    "#### use counter to separate gold to training label and test label    \n",
    "    if counter_label < 91:\n",
    "        train_labels.append(instance_label)  \n",
    "    else:\n",
    "        test_labels.append(instance_label)\n",
    "    counter_label= counter_label+1\n",
    "\n",
    "# print(test_labels)\n",
    "#testing\n",
    "#print(train_features)\n",
    "#print(len(train_features))\n",
    "#print(len(test_features))\n",
    "#print(\"labels\")\n",
    "#print(train_labels)\n",
    "#print(len(train_labels))\n",
    "#print(len(test_labels))\n",
    "#print(test_labels)  \n",
    "#print(type(train_features[2][12]))\n",
    "#print(type(train_labels[2]))\n",
    "\n",
    "\n",
    "\n",
    "###########################\n",
    "## YOUR CODE BEGINS HERE\n",
    "###########################\n",
    "\n"
   ]
  },
  {
   "cell_type": "markdown",
   "metadata": {},
   "source": [
    "<b>For your testing</b>"
   ]
  },
  {
   "cell_type": "code",
   "execution_count": 34,
   "metadata": {},
   "outputs": [],
   "source": [
    "assert len(train_features) == len(train_labels)\n",
    "assert len(train_features[0])==len(train_features[-1])\n",
    "assert train_features[2][12]== 0 and train_labels[2]==4"
   ]
  },
  {
   "cell_type": "markdown",
   "metadata": {
    "colab_type": "text",
    "collapsed": true,
    "id": "V2OlvNAicY4i"
   },
   "source": [
    "### Question 2: Distance Functions (2.0 marks)\n",
    "\n",
    "<b>Instructions</b>: Implement the four distance functions specified below. Use <b>only</b> the library imported below, i.e., <b>do not</b> use implementations from any other Python library. \n",
    "\n",
    "1. Eucledian distance\n",
    "2. Cosine distance\n",
    "3. Hamming distance \n",
    "4. Jaccard distance \n",
    "\n",
    "Each distance function takes as input\n",
    "- Two feature vectors\n",
    "\n",
    "and returns as output\n",
    "- The distance between the two feature vectors (float)\n",
    "\n",
    "**Note** for the purpose of this assignment we consider the numeric feature (legs) to be discretized already with each individual value belonging constituting a separate class."
   ]
  },
  {
   "cell_type": "code",
   "execution_count": 35,
   "metadata": {
    "colab": {
     "base_uri": "https://localhost:8080/",
     "height": 139
    },
    "colab_type": "code",
    "executionInfo": {
     "elapsed": 10593,
     "status": "ok",
     "timestamp": 1588139440049,
     "user": {
      "displayName": "Jey Han Lau",
      "photoUrl": "",
      "userId": "09065329932778503205"
     },
     "user_tz": -600
    },
    "id": "szPlY9PIcY4j",
    "outputId": "218560c5-6e80-4a8b-bfaf-5cb46b90f34c",
    "scrolled": true
   },
   "outputs": [],
   "source": [
    "import math\n",
    "#########################\n",
    "# Your answer BEGINS HERE\n",
    "#########################\n",
    "   \n",
    "\n",
    "def eucledian_distance(fv1, fv2):\n",
    "    # insert code here\n",
    "    # step_one is Sum of squares of each element difference\n",
    "    step_one=0\n",
    "    ##check the number of element in two vector\n",
    "    if len(fv1)==len(fv2):\n",
    "        for i in range(len(fv1)):\n",
    "            step_one+=math.pow(fv1[i]-fv2[i],2)\n",
    "        \n",
    "        output = math.sqrt(step_one)\n",
    "#         print(output)\n",
    "        return output\n",
    "    else:\n",
    "        print(\"size of two vectors are different\")\n",
    "    \n",
    "        \n",
    "\n",
    "    \n",
    "\n",
    "def cosine_distance(fv1, fv2):\n",
    "    # insert code here\n",
    "    # function: 1-(a*b)/|a|*|b|\n",
    "    # step_one is a*b\n",
    "    step_one=0\n",
    "    # step_two is 'a' square\n",
    "    step_two=0\n",
    "    # step_three is 'b' square\n",
    "    step_three=0\n",
    "    ##check the number of element in two vector\n",
    "    if len(fv1)==len(fv2):\n",
    "        for i in range(len(fv1)):\n",
    "            step_one+=fv1[i]*fv2[i]\n",
    "            step_two+=math.pow(fv1[i],2)\n",
    "            step_three+=math.pow(fv2[i],2)\n",
    "        #Multiplication the square root of the sum of the squares of the elements in the vector\n",
    "        Mul_squRoS = math.sqrt(step_two)*math.sqrt(step_three)\n",
    "        cosin_simi = step_one/Mul_squRoS\n",
    "        output=1-cosin_simi\n",
    "        #print(cosin_simi)\n",
    "#         print(output)\n",
    "        return output\n",
    "    else:\n",
    "        print(\"size of two vectors are different\")\n",
    "    \n",
    "\n",
    "    \n",
    "def hamming_distance(fv1, fv2):\n",
    "    # insert code here\n",
    "    #counter is the output\n",
    "    counter=0\n",
    "    if len(fv1)==len(fv2):\n",
    "        for i in range(len(fv1)):\n",
    "            if fv1[i]!=fv2[i]:\n",
    "                counter=counter+1\n",
    "            else:\n",
    "                continue\n",
    "#         print(counter)\n",
    "        return counter\n",
    "    else:\n",
    "        print(\"size of two vectors are different\")\n",
    "     \n",
    "\n",
    "    \n",
    "def jaccard_distance(fv1, fv2):\n",
    "    # insert code here\n",
    "    #count feature in group a\n",
    "    counter_a=0\n",
    "    #count feature in group b\n",
    "    counter_b=0\n",
    "    #count intersection for two group\n",
    "    counter_intersection=0\n",
    "    if len(fv1)==len(fv2):\n",
    "        for i in range(len(fv1)):\n",
    "            if fv1[i]>0 and fv2[i]>0:\n",
    "                counter_intersection=counter_intersection+1\n",
    "            else:\n",
    "                continue\n",
    "        for i in range(len(fv1)):\n",
    "            if fv1[i]>0:\n",
    "                counter_a=counter_a+1\n",
    "            else:\n",
    "                continue\n",
    "        for i in range(len(fv1)):\n",
    "            if fv2[i]>0:\n",
    "                counter_b=counter_b+1  \n",
    "            else:\n",
    "                continue\n",
    "        union=counter_a+counter_b - counter_intersection\n",
    "        output=1-counter_intersection/union\n",
    "        \n",
    "#         print(counter_intersection)\n",
    "#         print(counter_a)\n",
    "#         print(counter_b)\n",
    "#         print(output)\n",
    "        return output\n",
    "    else:\n",
    "        print(\"size of two vectors are different\")\n",
    "    \n",
    "\n",
    "\n",
    "\n",
    "#########################\n",
    "# Your answer ENDS HERE\n",
    "#########################\n",
    "\n"
   ]
  },
  {
   "cell_type": "markdown",
   "metadata": {
    "colab_type": "text",
    "id": "JTt3T9fycY4p"
   },
   "source": [
    "<b>For your testing: </b>"
   ]
  },
  {
   "cell_type": "code",
   "execution_count": 36,
   "metadata": {
    "colab": {},
    "colab_type": "code",
    "id": "PCkSP91lcY4q"
   },
   "outputs": [],
   "source": [
    "assert round(eucledian_distance([1,0],[0.5,1]),2)==1.12 \n",
    "assert jaccard_distance([1,1,1,1], [0,1,0,0])==0.75"
   ]
  },
  {
   "cell_type": "markdown",
   "metadata": {
    "colab_type": "text",
    "id": "zknFIccAcY40"
   },
   "source": [
    "### Question 3: KNN Classifier (4.0 marks)\n",
    "\n",
    "<b>Instructions</b>: Here, you implement your KNN classifier. It takes as input \n",
    "- training data features\n",
    "- training data labels\n",
    "- test data features\n",
    "- parameter K\n",
    "- distance function(s) based on which nearest neighbors will be identified\n",
    "\n",
    "It returns as output \n",
    "- the predicted labels for the test data\n",
    "\n",
    "**Voting stragegy** Your classifier will use majority voting (i.e., no distance weighting)\n",
    "\n",
    "**You should implement the classifier from scratch yourself**, i.e., <b> you must not</b> use an existing implementation in any Python library.\n",
    "\n",
    "**Ties**. Ties may occur when computing the K nearest neighbors, or when predicting the class based on the neighborhood. You may deal with ties whichever way you want (as long as you still use the requested distance functions)."
   ]
  },
  {
   "cell_type": "code",
   "execution_count": 37,
   "metadata": {
    "colab": {
     "base_uri": "https://localhost:8080/",
     "height": 71
    },
    "colab_type": "code",
    "executionInfo": {
     "elapsed": 919,
     "status": "ok",
     "timestamp": 1588139482398,
     "user": {
      "displayName": "Jey Han Lau",
      "photoUrl": "",
      "userId": "09065329932778503205"
     },
     "user_tz": -600
    },
    "id": "W6rdnrOXcY41",
    "outputId": "8d2391db-d5c0-4ea2-ea83-850e79bffd5c",
    "scrolled": false
   },
   "outputs": [],
   "source": [
    "def KNN(train_features, train_labels, test_features, k, dist_fun):\n",
    "    \n",
    "    predictions = []\n",
    "    \n",
    "    ###########################\n",
    "    ## YOUR CODE BEGINS HERE\n",
    "    ###########################\n",
    "    distance=[]\n",
    "    new_distance=[]\n",
    "    classcount={}\n",
    "    prediction_label=[]\n",
    "    \n",
    "    ######break ties\n",
    "    if (k% 2) == 0:\n",
    "        k=k+1\n",
    "        print(\"K is even number, automatically add 1 to break ties\")\n",
    "    else:\n",
    "        print(\"k is odd number\")\n",
    "        \n",
    "   #######claculate distance and put the outcome to distance list \n",
    "    for i in test_features:\n",
    "        prediction_label=0\n",
    "        a=0\n",
    "        #print(\"i value\",i)\n",
    "        for j in train_features:\n",
    "            #print(j)\n",
    "            a=dist_fun(j,i)\n",
    "            distance.append(a)\n",
    "    #### new_distance save the sorted value in distance list and show up by index  \n",
    "        new_distance=sorted(range(len(distance)),key=lambda k: distance[k])\n",
    "#         print(\"check sorted distance value sorted and show up by index\")\n",
    "#         print(new_distance)\n",
    "        \n",
    "    ###  calculate the number of each label   \n",
    "        for b in range(k):\n",
    "            #print(\"k value\")\n",
    "            #print(k)\n",
    "            prediction_label=train_labels[new_distance[b]]\n",
    "            classcount[prediction_label]=classcount.get(prediction_label,0)+1\n",
    "        \n",
    "\n",
    "    ###  Voting stragegy \n",
    "#         print(\"check classifier\",classcount)\n",
    "        predictions.append(max(classcount,key=classcount.get))\n",
    "        \n",
    "        distance.clear()\n",
    "        new_distance.clear()\n",
    "        classcount.clear()\n",
    "#         print(\"check prediction list\")\n",
    "#         print(predictions)\n",
    "        #print(type(predictions))\n",
    "        \n",
    "#         print(\"--------------new prediction--------------------------------\")\n",
    "    \n",
    "    return predictions\n",
    "            \n",
    "\n",
    "            \n",
    "        \n",
    "#         new_distance=sorted(distance, key=lambda x: x[1])\n",
    "#         print(new_distance)\n",
    "        \n",
    "            \n",
    "        \n",
    "        \n",
    "        \n",
    "#         print(train_features[0])\n",
    "#         print(test_features)\n",
    "#         print(len(train_features[0]))\n",
    "#         print(len(test_features[0]))\n",
    "\n",
    "\n",
    "    ###########################\n",
    "    ## YOUR CODE ends HERE\n",
    "    ###########################\n",
    "             "
   ]
  },
  {
   "cell_type": "markdown",
   "metadata": {
    "colab_type": "text",
    "id": "cWgLNH3LcY45"
   },
   "source": [
    "<b>For your testing:</b>"
   ]
  },
  {
   "cell_type": "code",
   "execution_count": 38,
   "metadata": {},
   "outputs": [
    {
     "name": "stdout",
     "output_type": "stream",
     "text": [
      "k is odd number\n"
     ]
    }
   ],
   "source": [
    "assert KNN([[1,1],[5,5],[1,2]], [1,0,1], [[1,1]], 1, eucledian_distance) == [1]"
   ]
  },
  {
   "cell_type": "markdown",
   "metadata": {
    "colab": {},
    "colab_type": "code",
    "id": "th1NNkYZcY45"
   },
   "source": [
    "### Question 4: Evaluation (1.0 marks)\n",
    "**Instructions:** Write a function that computes the \"accuracy\" of your classifier. Given a set of predicted lables and a set of gold labels, it returns the fraction of correct labels over all predicted labels. \n",
    "\n",
    "**Example**: `The gold truth labels for four test instances are [1, 1, 1, 1]. A system predicted the labels [0, 1, 0, 0] for the same 4 instances. The accuracy of the system is 1/4 = 0.25\n",
    "`\n",
    "\n",
    "Your function will take as input \n",
    "- gold labels\n",
    "- predicted labels\n",
    "\n",
    "It returns as output\n",
    "- the accuracy value (float).\n"
   ]
  },
  {
   "cell_type": "code",
   "execution_count": 39,
   "metadata": {
    "colab_type": "text",
    "id": "F3V5AkC8cY48"
   },
   "outputs": [],
   "source": [
    "def accuracy(predict, gold):\n",
    "    \n",
    "    ###########################\n",
    "    ## YOUR CODE BEGINS HERE\n",
    "    ###########################\n",
    "    counter =0;\n",
    "    a=len(predict)\n",
    "#     print(len(predict))\n",
    "#     print(len(gold))\n",
    "    for i in range(len(predict)):\n",
    "        if predict[i]==gold[i]:\n",
    "            counter=counter+1\n",
    "        else:\n",
    "            continue\n",
    "    accuracy = round(counter/a,2)\n",
    "#     print(accuracy)\n",
    "    \n",
    "\n",
    "\n",
    "    ###########################\n",
    "    ## YOUR CODE BEGINS HERE\n",
    "    ###########################\n",
    "\n",
    "    return accuracy"
   ]
  },
  {
   "cell_type": "markdown",
   "metadata": {
    "colab_type": "text",
    "id": "xUwPHXMmcY49"
   },
   "source": [
    "<b>For your testing:</b>"
   ]
  },
  {
   "cell_type": "code",
   "execution_count": 40,
   "metadata": {
    "colab": {},
    "colab_type": "code",
    "id": "8hL-EnT-cY49"
   },
   "outputs": [],
   "source": [
    "assert accuracy([1, 1, 1, 1], [0, 1, 0, 1])==0.5"
   ]
  },
  {
   "cell_type": "markdown",
   "metadata": {},
   "source": [
    "### Question 5: Applying your KNN classifiers to the Zoo Dataset (3.0 marks)\n",
    "\n",
    "**Using the functions you have implemented above, please**\n",
    "\n",
    "<b> 1. </b>\n",
    "For each of the distance functions you implemented in Question 2, construct four KNN classifiers with K=1, K=5, K=25, K=55. You will create a total of 16 (4 distance functions x 4 K values) classifiers.\n",
    "\n",
    "<b> 2. </b>\n",
    "Compute the test accuracy for each model"
   ]
  },
  {
   "cell_type": "code",
   "execution_count": 41,
   "metadata": {},
   "outputs": [
    {
     "name": "stdout",
     "output_type": "stream",
     "text": [
      "k is odd number\n",
      "k is odd number\n",
      "k is odd number\n",
      "k is odd number\n",
      "k is odd number\n",
      "k is odd number\n",
      "k is odd number\n",
      "k is odd number\n",
      "k is odd number\n",
      "k is odd number\n",
      "k is odd number\n",
      "k is odd number\n",
      "k is odd number\n",
      "k is odd number\n",
      "k is odd number\n",
      "k is odd number\n",
      "Euclidean\n",
      "0.82\n",
      "0.82\n",
      "0.64\n",
      "0.36\n",
      "Cosine\n",
      "0.82\n",
      "0.82\n",
      "0.64\n",
      "0.36\n",
      "Jaccard\n",
      "0.82\n",
      "0.73\n",
      "0.64\n",
      "0.36\n",
      "Hamming\n",
      "0.82\n",
      "0.73\n",
      "0.73\n",
      "0.55\n"
     ]
    }
   ],
   "source": [
    "########################\n",
    "# Your code STARTS HERE\n",
    "########################\n",
    "\n",
    "# 1. Predict test labels with each KNN classifier\n",
    "#eucledian_distance\n",
    "predictLabel_euc_k1=KNN(train_features, train_labels, test_features, 1, eucledian_distance)\n",
    "predictLabel_euc_k5=KNN(train_features, train_labels, test_features, 5, eucledian_distance)\n",
    "predictLabel_euc_k25=KNN(train_features, train_labels, test_features,25, eucledian_distance)\n",
    "predictLabel_euc_k55=KNN(train_features, train_labels, test_features, 55, eucledian_distance)\n",
    "\n",
    "# print(\"@@@@@@@@@@@@@@@@@@@@@@@@@@@@@@@@@@@@@@@@@@@@@@@@@@@@@@@@@@@@@\")\n",
    "# print(predictLabel_euc_k1)\n",
    "# print(predictLabel_euc_k5)\n",
    "# print(predictLabel_euc_k25)\n",
    "# print(predictLabel_euc_k55)\n",
    "\n",
    "# #cosine_distance\n",
    "predictLabel_cos_k1=KNN(train_features, train_labels, test_features, 1, cosine_distance)\n",
    "predictLabel_cos_k5=KNN(train_features, train_labels, test_features, 5, cosine_distance)\n",
    "predictLabel_cos_k25=KNN(train_features, train_labels, test_features, 25, cosine_distance)\n",
    "predictLabel_cos_k55=KNN(train_features, train_labels, test_features, 55, cosine_distance)\n",
    "\n",
    "\n",
    "# #jaccard_distance\n",
    "predictLabel_jac_k1=KNN(train_features, train_labels, test_features, 1, jaccard_distance)\n",
    "predictLabel_jac_k5=KNN(train_features, train_labels, test_features, 5, jaccard_distance)\n",
    "predictLabel_jac_k25=KNN(train_features, train_labels, test_features, 25, jaccard_distance)\n",
    "predictLabel_jac_k55=KNN(train_features, train_labels, test_features, 55, jaccard_distance)\n",
    "\n",
    "\n",
    "# #hamming_distance\n",
    "predictLabel_ham_k1=KNN(train_features, train_labels, test_features, 1, hamming_distance)\n",
    "predictLabel_ham_k5=KNN(train_features, train_labels, test_features, 5, hamming_distance)\n",
    "predictLabel_ham_k25=KNN(train_features, train_labels, test_features, 25, hamming_distance)\n",
    "predictLabel_ham_k55=KNN(train_features, train_labels, test_features, 55, hamming_distance)\n",
    "\n",
    "# # 2. Compute the accuracy scores \n",
    "##### accuracy scores Euclidean\n",
    "accuracy_knn_euc_1= accuracy(predictLabel_euc_k1,test_labels)\n",
    "accuracy_knn_euc_5= accuracy(predictLabel_euc_k5,test_labels)\n",
    "accuracy_knn_euc_25= accuracy(predictLabel_euc_k25,test_labels)\n",
    "accuracy_knn_euc_55= accuracy(predictLabel_euc_k55,test_labels)\n",
    "\n",
    "##### accuracy scores Cosine\n",
    "accuracy_knn_cos_1 = accuracy(predictLabel_cos_k1,test_labels)\n",
    "accuracy_knn_cos_5 = accuracy(predictLabel_cos_k5,test_labels)\n",
    "accuracy_knn_cos_25 = accuracy(predictLabel_cos_k25,test_labels)\n",
    "accuracy_knn_cos_55 = accuracy(predictLabel_cos_k55,test_labels)\n",
    "\n",
    "##### accuracy scores Jaccard\n",
    "accuracy_knn_jac_1 = accuracy(predictLabel_jac_k1,test_labels)\n",
    "accuracy_knn_jac_5 = accuracy(predictLabel_jac_k5,test_labels)\n",
    "accuracy_knn_jac_25 = accuracy(predictLabel_jac_k25,test_labels)\n",
    "accuracy_knn_jac_55 = accuracy(predictLabel_jac_k55,test_labels)\n",
    "\n",
    "##### accuracy scores Hamming\n",
    "accuracy_knn_ham_1 = accuracy(predictLabel_ham_k1,test_labels)\n",
    "accuracy_knn_ham_5 = accuracy(predictLabel_ham_k5,test_labels)\n",
    "accuracy_knn_ham_25 = accuracy(predictLabel_ham_k25,test_labels)\n",
    "accuracy_knn_ham_55 = accuracy(predictLabel_ham_k55,test_labels)\n",
    "\n",
    "# ########################\n",
    "# # Your code ENDS HERE\n",
    "# ########################\n",
    "\n",
    "\n",
    "print(\"Euclidean\")\n",
    "print(accuracy_knn_euc_1)\n",
    "print(accuracy_knn_euc_5)\n",
    "print(accuracy_knn_euc_25)\n",
    "print(accuracy_knn_euc_55)\n",
    "print(\"Cosine\")\n",
    "print(accuracy_knn_cos_1)\n",
    "print(accuracy_knn_cos_5)\n",
    "print(accuracy_knn_cos_25)\n",
    "print(accuracy_knn_cos_55)\n",
    "print(\"Jaccard\")\n",
    "print(accuracy_knn_jac_1)\n",
    "print(accuracy_knn_jac_5)\n",
    "print(accuracy_knn_jac_25)\n",
    "print(accuracy_knn_jac_55)\n",
    "print(\"Hamming\")\n",
    "print(accuracy_knn_ham_1)\n",
    "print(accuracy_knn_ham_5)\n",
    "print(accuracy_knn_ham_25)\n",
    "print(accuracy_knn_ham_55)"
   ]
  },
  {
   "cell_type": "markdown",
   "metadata": {},
   "source": [
    "### Question 6: Discussion (3.0 marks)\n",
    "1. (a) Which parameter K resulted in the best performance? (b) Why? (c) What could be done to improve those classifiers that are currently performing poorly?\n",
    "\n",
    "2. The results of KNN with Euclidean distance and KNN with Cosine distance are remarkably similar. Why is that so? Referring to the definitions of the distance functions.\n",
    "\n",
    "<b>Each question should be answered in no more than 2-3 sentences.</b>"
   ]
  },
  {
   "cell_type": "markdown",
   "metadata": {},
   "source": [
    "1(a).\n",
    "K=1\n",
    "\n",
    "1(b). \n",
    "Compare with four KNN classifiers, when k is 1 has the highest accuracy value. The reason for this situation is the amount of data is small, and many categories need to be the prediction that make different categories of training data are not balanced. On another way, most of the data type is boolean reduced the impact of noise.\n",
    "\n",
    "1(c). \n",
    "Add new data to balance the sample and weight the different attributes.\n",
    "\n",
    "2. \n",
    "Euclidean disatance is more focus on the difference in individual numerical characteristics. Cosine distance is more focus on the difference in direction. However, after observing type of the data，most of them are boolean and only one data type is numeric, the boolean data reduced the impact of numerical features，so the results of Euclidean distance and Cosine distance are similar. From a mathematical point of view, Euclidean distance with normalized vectors is same to the Cosine distance.\n"
   ]
  },
  {
   "cell_type": "code",
   "execution_count": null,
   "metadata": {},
   "outputs": [],
   "source": [
    "\n"
   ]
  }
 ],
 "metadata": {
  "accelerator": "GPU",
  "anaconda-cloud": {},
  "colab": {
   "collapsed_sections": [],
   "name": "word-similarity.ipynb",
   "provenance": [],
   "toc_visible": true
  },
  "kernelspec": {
   "display_name": "Python 3",
   "language": "python",
   "name": "python3"
  },
  "language_info": {
   "codemirror_mode": {
    "name": "ipython",
    "version": 3
   },
   "file_extension": ".py",
   "mimetype": "text/x-python",
   "name": "python",
   "nbconvert_exporter": "python",
   "pygments_lexer": "ipython3",
   "version": "3.8.5"
  }
 },
 "nbformat": 4,
 "nbformat_minor": 1
}
